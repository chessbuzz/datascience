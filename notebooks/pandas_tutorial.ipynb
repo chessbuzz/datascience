{
 "cells": [
  {
   "cell_type": "code",
   "execution_count": 3,
   "metadata": {},
   "outputs": [],
   "source": [
    "# imports\n",
    "\n",
    "import numpy as np\n",
    "import pandas as pd\n",
    "from sqlalchemy import create_engine"
   ]
  },
  {
   "cell_type": "code",
   "execution_count": 16,
   "metadata": {},
   "outputs": [],
   "source": [
    "# reading the contents of the CSV and loading it into a dataframe\n",
    "# df = pd.read_csv('iris.csv')\n",
    "df = pd.read_csv('building_permits.csv')"
   ]
  },
  {
   "cell_type": "code",
   "execution_count": 17,
   "metadata": {},
   "outputs": [
    {
     "name": "stdout",
     "output_type": "stream",
     "text": [
      "   ID  AdditionSQFT ApplicationNumber BuildingFinalLastInspDate  \\\n",
      "0   3           0.0        BD12000118                       NaN   \n",
      "1  35           0.0        BD12001361                       NaN   \n",
      "2  29           0.0        BD12001006                       NaN   \n",
      "3  44           0.0        BD12001813    03/16/2016 09:16:00 AM   \n",
      "4  39           0.0        BD12001757                       NaN   \n",
      "\n",
      "   BuildingFinalLastInspResult BuildingPermitStatusDescription  \\\n",
      "0                          NaN                          Active   \n",
      "1                          NaN                           Final   \n",
      "2                          NaN                          Active   \n",
      "3                          NaN                          Active   \n",
      "4                          NaN                          Active   \n",
      "\n",
      "      BuildingPermitStatusReasonDescription Certificatecode Certificatedate  \\\n",
      "0  Permit is Active. Ready for Inspections.             NaN             NaN   \n",
      "1            All Inspections are finalized.             NaN             NaN   \n",
      "2  Permit is Active. Ready for Inspections.             NaN             NaN   \n",
      "3  Permit is Active. Ready for Inspections.             NaN             NaN   \n",
      "4  Permit is Active. Ready for Inspections.             NaN             NaN   \n",
      "\n",
      "            CompanyAddress  ... RemSQFT RequiredCertificate  \\\n",
      "0  3021 N COMMERCE PARKWAY  ...     0.0                 NaN   \n",
      "1          3613 SW 167 AVE  ...     0.0                 NaN   \n",
      "2           1138 Milan Ave  ...    35.0                  CC   \n",
      "3           11593 NW 80 St  ...     0.0                 NaN   \n",
      "4         2027 sw 31st ave  ...     0.0                 NaN   \n",
      "\n",
      "          ScopeofWork              Statusdate  TotalCost  \\\n",
      "0          ELECTRICAL  12/03/2019 10:46:00 AM     1950.0   \n",
      "1          ELECTRICAL  08/05/2019 12:17:00 PM     5200.0   \n",
      "2  REMODELING/REPAIRS  11/24/2020 05:15:00 PM     1000.0   \n",
      "3  REMODELING/REPAIRS  05/06/2020 12:26:00 PM     7500.0   \n",
      "4          MECHANICAL  12/02/2019 12:13:00 PM     7000.0   \n",
      "\n",
      "                TotalDaysInPlanReview TotalDaysInPlanReviewNumeric  TotalSQFT  \\\n",
      "0     1 Day(s) 19 Hour(s) 0 Minute(s)                          1.0        0.0   \n",
      "1     0 Day(s) 2 Hour(s) 20 Minute(s)                          0.0        0.0   \n",
      "2  3148 Day(s) 7 Hour(s) 12 Minute(s)                       3148.0       35.0   \n",
      "3     0 Day(s) 0 Hour(s) 58 Minute(s)                          0.0        0.0   \n",
      "4     13 Day(s) 1 Hour(s) 2 Minute(s)                         13.0        0.0   \n",
      "\n",
      "                                           WorkItems  \\\n",
      "0                         EXISTING FIRE ALARM SYSTEM   \n",
      "1                              NEW FIRE ALARM SYSTEM   \n",
      "2  ROUGHING FIXTURE: LAVATORY|SETTING FIXTURE: LA...   \n",
      "3                                 WOOD/LAMINATE/TILE   \n",
      "4  REPLACE SAME LOCATION CENTRAL AC / HEATING SYSTEM   \n",
      "\n",
      "                                   Location_1  \n",
      "0     POINT (-80.2151866309 25.7888073693991)  \n",
      "1  POINT (-80.2382540119796 25.7743371090162)  \n",
      "2  POINT (-80.2245079529577 25.7536407617881)  \n",
      "3  POINT (-80.1944819235725 25.7613519355662)  \n",
      "4  POINT (-80.2341481690281 25.7654398602919)  \n",
      "\n",
      "[5 rows x 41 columns]\n"
     ]
    }
   ],
   "source": [
    "# using head function to see the first 10 rows\n",
    "\n",
    "print (df.head())"
   ]
  },
  {
   "cell_type": "code",
   "execution_count": 18,
   "metadata": {},
   "outputs": [
    {
     "name": "stdout",
     "output_type": "stream",
     "text": [
      "(65643, 41)\n"
     ]
    }
   ],
   "source": [
    "# get the number of rows and columns\n",
    "print(df.shape)"
   ]
  },
  {
   "cell_type": "code",
   "execution_count": 19,
   "metadata": {},
   "outputs": [
    {
     "name": "stdout",
     "output_type": "stream",
     "text": [
      "Index(['ID', 'AdditionSQFT', 'ApplicationNumber', 'BuildingFinalLastInspDate',\n",
      "       'BuildingFinalLastInspResult', 'BuildingPermitStatusDescription',\n",
      "       'BuildingPermitStatusReasonDescription', 'Certificatecode',\n",
      "       'Certificatedate', 'CompanyAddress', 'CompanyCity', 'CompanyName',\n",
      "       'CompanyZip', 'DaysInCity', 'DaysInCityNumeric', 'DeliveryAddress',\n",
      "       'FirstSubmissionDate', 'FolioNumber', 'IsPermitFinal',\n",
      "       'IsPrivateProvider', 'IssuedDate', 'Latitude', 'Longitude',\n",
      "       'Miami21Zone', 'NewAdditionCost', 'PermitNumber', 'PlanAcceptedDate',\n",
      "       'PlanCreatedDate', 'ProcessNumber', 'PropertyType', 'RemodelingCost',\n",
      "       'RemSQFT', 'RequiredCertificate', 'ScopeofWork', 'Statusdate',\n",
      "       'TotalCost', 'TotalDaysInPlanReview', 'TotalDaysInPlanReviewNumeric',\n",
      "       'TotalSQFT', 'WorkItems', 'Location_1'],\n",
      "      dtype='object')\n"
     ]
    }
   ],
   "source": [
    "# get column names\n",
    "print(df.columns)"
   ]
  },
  {
   "cell_type": "code",
   "execution_count": 21,
   "metadata": {},
   "outputs": [
    {
     "name": "stdout",
     "output_type": "stream",
     "text": [
      "ID                                         int64\n",
      "AdditionSQFT                             float64\n",
      "ApplicationNumber                         object\n",
      "BuildingFinalLastInspDate                 object\n",
      "BuildingFinalLastInspResult              float64\n",
      "BuildingPermitStatusDescription           object\n",
      "BuildingPermitStatusReasonDescription     object\n",
      "Certificatecode                           object\n",
      "Certificatedate                           object\n",
      "CompanyAddress                            object\n",
      "CompanyCity                               object\n",
      "CompanyName                               object\n",
      "CompanyZip                               float64\n",
      "DaysInCity                                object\n",
      "DaysInCityNumeric                        float64\n",
      "DeliveryAddress                           object\n",
      "FirstSubmissionDate                       object\n",
      "FolioNumber                                int64\n",
      "IsPermitFinal                               bool\n",
      "IsPrivateProvider                           bool\n",
      "IssuedDate                                object\n",
      "Latitude                                 float64\n",
      "Longitude                                float64\n",
      "Miami21Zone                               object\n",
      "NewAdditionCost                          float64\n",
      "PermitNumber                              object\n",
      "PlanAcceptedDate                          object\n",
      "PlanCreatedDate                           object\n",
      "ProcessNumber                             object\n",
      "PropertyType                              object\n",
      "RemodelingCost                           float64\n",
      "RemSQFT                                  float64\n",
      "RequiredCertificate                       object\n",
      "ScopeofWork                               object\n",
      "Statusdate                                object\n",
      "TotalCost                                float64\n",
      "TotalDaysInPlanReview                     object\n",
      "TotalDaysInPlanReviewNumeric             float64\n",
      "TotalSQFT                                float64\n",
      "WorkItems                                 object\n",
      "Location_1                                object\n",
      "dtype: object\n"
     ]
    }
   ],
   "source": [
    "# get the dtype of each column\n",
    "\n",
    "print(df.dtypes)"
   ]
  },
  {
   "cell_type": "code",
   "execution_count": 22,
   "metadata": {},
   "outputs": [
    {
     "name": "stdout",
     "output_type": "stream",
     "text": [
      "<class 'pandas.core.frame.DataFrame'>\n",
      "RangeIndex: 65643 entries, 0 to 65642\n",
      "Data columns (total 41 columns):\n",
      "ID                                       65643 non-null int64\n",
      "AdditionSQFT                             64096 non-null float64\n",
      "ApplicationNumber                        65643 non-null object\n",
      "BuildingFinalLastInspDate                10995 non-null object\n",
      "BuildingFinalLastInspResult              0 non-null float64\n",
      "BuildingPermitStatusDescription          65643 non-null object\n",
      "BuildingPermitStatusReasonDescription    65643 non-null object\n",
      "Certificatecode                          4542 non-null object\n",
      "Certificatedate                          4542 non-null object\n",
      "CompanyAddress                           63177 non-null object\n",
      "CompanyCity                              63177 non-null object\n",
      "CompanyName                              63177 non-null object\n",
      "CompanyZip                               63177 non-null float64\n",
      "DaysInCity                               31318 non-null object\n",
      "DaysInCityNumeric                        31318 non-null float64\n",
      "DeliveryAddress                          65643 non-null object\n",
      "FirstSubmissionDate                      31326 non-null object\n",
      "FolioNumber                              65643 non-null int64\n",
      "IsPermitFinal                            65643 non-null bool\n",
      "IsPrivateProvider                        65643 non-null bool\n",
      "IssuedDate                               65632 non-null object\n",
      "Latitude                                 65643 non-null float64\n",
      "Longitude                                65643 non-null float64\n",
      "Miami21Zone                              65607 non-null object\n",
      "NewAdditionCost                          27400 non-null float64\n",
      "PermitNumber                             65643 non-null object\n",
      "PlanAcceptedDate                         65641 non-null object\n",
      "PlanCreatedDate                          65643 non-null object\n",
      "ProcessNumber                            65643 non-null object\n",
      "PropertyType                             65643 non-null object\n",
      "RemodelingCost                           35126 non-null float64\n",
      "RemSQFT                                  64096 non-null float64\n",
      "RequiredCertificate                      30947 non-null object\n",
      "ScopeofWork                              65643 non-null object\n",
      "Statusdate                               65643 non-null object\n",
      "TotalCost                                63269 non-null float64\n",
      "TotalDaysInPlanReview                    65630 non-null object\n",
      "TotalDaysInPlanReviewNumeric             65630 non-null float64\n",
      "TotalSQFT                                64096 non-null float64\n",
      "WorkItems                                65639 non-null object\n",
      "Location_1                               65643 non-null object\n",
      "dtypes: bool(2), float64(12), int64(2), object(25)\n",
      "memory usage: 19.7+ MB\n",
      "None\n"
     ]
    }
   ],
   "source": [
    "# get more info about our data\n",
    "\n",
    "print(df.info())"
   ]
  },
  {
   "cell_type": "code",
   "execution_count": 28,
   "metadata": {},
   "outputs": [
    {
     "name": "stdout",
     "output_type": "stream",
     "text": [
      "0       1950.0\n",
      "1       5200.0\n",
      "2       1000.0\n",
      "3       7500.0\n",
      "4       7000.0\n",
      "5     150000.0\n",
      "6      10000.0\n",
      "7      20000.0\n",
      "8       3500.0\n",
      "9       9000.0\n",
      "10       200.0\n",
      "11      3000.0\n",
      "12     15000.0\n",
      "13      6000.0\n",
      "14       400.0\n",
      "15     36750.0\n",
      "16       400.0\n",
      "17         NaN\n",
      "18     10000.0\n",
      "19      1500.0\n",
      "20      1500.0\n",
      "21     63125.0\n",
      "22      2500.0\n",
      "23     30000.0\n",
      "24      6000.0\n",
      "Name: TotalCost, dtype: float64\n"
     ]
    }
   ],
   "source": [
    "# get the total cost colum and save it to its own variable\n",
    "totalcost_df = df['TotalCost']\n",
    "\n",
    "# show the first 5 observations\n",
    "print(totalcost_df.head(25))"
   ]
  },
  {
   "cell_type": "code",
   "execution_count": 29,
   "metadata": {},
   "outputs": [
    {
     "name": "stdout",
     "output_type": "stream",
     "text": [
      "   ID  TotalCost ApplicationNumber\n",
      "0   3     1950.0        BD12000118\n",
      "1  35     5200.0        BD12001361\n",
      "2  29     1000.0        BD12001006\n",
      "3  44     7500.0        BD12001813\n",
      "4  39     7000.0        BD12001757\n"
     ]
    }
   ],
   "source": [
    "# creating a subset with multiple columns. Passing a python list\n",
    "subset =df[['ID','TotalCost', 'ApplicationNumber', ]]\n",
    "print(subset.head())"
   ]
  },
  {
   "cell_type": "code",
   "execution_count": 30,
   "metadata": {},
   "outputs": [
    {
     "name": "stdout",
     "output_type": "stream",
     "text": [
      "65638     3905.0\n",
      "65639    12000.0\n",
      "65640     1000.0\n",
      "65641     1050.0\n",
      "65642     1000.0\n",
      "Name: TotalCost, dtype: float64\n"
     ]
    }
   ],
   "source": [
    "# show the last 5 observations\n",
    "print(totalcost_df.tail())"
   ]
  },
  {
   "cell_type": "code",
   "execution_count": null,
   "metadata": {},
   "outputs": [],
   "source": []
  }
 ],
 "metadata": {
  "kernelspec": {
   "display_name": "Python 3",
   "language": "python",
   "name": "python3"
  },
  "language_info": {
   "codemirror_mode": {
    "name": "ipython",
    "version": 3
   },
   "file_extension": ".py",
   "mimetype": "text/x-python",
   "name": "python",
   "nbconvert_exporter": "python",
   "pygments_lexer": "ipython3",
   "version": "3.7.4"
  }
 },
 "nbformat": 4,
 "nbformat_minor": 2
}
